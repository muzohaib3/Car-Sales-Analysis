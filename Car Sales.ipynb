{
 "cells": [
  {
   "cell_type": "code",
   "execution_count": 0,
   "metadata": {
    "application/vnd.databricks.v1+cell": {
     "cellMetadata": {
      "byteLimit": 2048000,
      "rowLimit": 10000
     },
     "inputWidgets": {},
     "nuid": "e0d52951-3f06-41b8-96d9-d537b55af781",
     "showTitle": false,
     "title": ""
    }
   },
   "outputs": [
    {
     "output_type": "display_data",
     "data": {
      "text/html": [
       "\n",
       "            <div>\n",
       "                <p><b>SparkSession - hive</b></p>\n",
       "                \n",
       "        <div>\n",
       "            <p><b>SparkContext</b></p>\n",
       "\n",
       "            <p><a href=\"/?o=7345128344481593#setting/sparkui/0114-165713-lrjloy65/driver-2925205295560874855\">Spark UI</a></p>\n",
       "\n",
       "            <dl>\n",
       "              <dt>Version</dt>\n",
       "                <dd><code>v3.3.2</code></dd>\n",
       "              <dt>Master</dt>\n",
       "                <dd><code>local[8]</code></dd>\n",
       "              <dt>AppName</dt>\n",
       "                <dd><code>Databricks Shell</code></dd>\n",
       "            </dl>\n",
       "        </div>\n",
       "        \n",
       "            </div>\n",
       "        "
      ]
     },
     "metadata": {
      "application/vnd.databricks.v1+output": {
       "addedWidgets": {},
       "arguments": {},
       "data": "\n            <div>\n                <p><b>SparkSession - hive</b></p>\n                \n        <div>\n            <p><b>SparkContext</b></p>\n\n            <p><a href=\"/?o=7345128344481593#setting/sparkui/0114-165713-lrjloy65/driver-2925205295560874855\">Spark UI</a></p>\n\n            <dl>\n              <dt>Version</dt>\n                <dd><code>v3.3.2</code></dd>\n              <dt>Master</dt>\n                <dd><code>local[8]</code></dd>\n              <dt>AppName</dt>\n                <dd><code>Databricks Shell</code></dd>\n            </dl>\n        </div>\n        \n            </div>\n        ",
       "datasetInfos": [],
       "metadata": {},
       "removedWidgets": [],
       "textData": null,
       "type": "htmlSandbox"
      }
     },
     "output_type": "display_data"
    }
   ],
   "source": [
    "spark"
   ]
  },
  {
   "cell_type": "markdown",
   "metadata": {
    "application/vnd.databricks.v1+cell": {
     "cellMetadata": {
      "byteLimit": 2048000,
      "rowLimit": 10000
     },
     "inputWidgets": {},
     "nuid": "b4db6881-4519-409b-91b5-1ff991a86a54",
     "showTitle": false,
     "title": ""
    }
   },
   "source": [
    "\n",
    "File uploaded to /FileStore/tables/Car-2.csv"
   ]
  },
  {
   "cell_type": "code",
   "execution_count": 0,
   "metadata": {
    "application/vnd.databricks.v1+cell": {
     "cellMetadata": {
      "byteLimit": 2048000,
      "rowLimit": 10000
     },
     "inputWidgets": {},
     "nuid": "fc399f5e-275a-4678-a8a8-5905a1a2c017",
     "showTitle": false,
     "title": ""
    }
   },
   "outputs": [
    {
     "output_type": "display_data",
     "data": {
      "text/html": [
       "<style scoped>\n",
       "  .table-result-container {\n",
       "    max-height: 300px;\n",
       "    overflow: auto;\n",
       "  }\n",
       "  table, th, td {\n",
       "    border: 1px solid black;\n",
       "    border-collapse: collapse;\n",
       "  }\n",
       "  th, td {\n",
       "    padding: 5px;\n",
       "  }\n",
       "  th {\n",
       "    text-align: left;\n",
       "  }\n",
       "</style><div class='table-result-container'><table class='table-result'><thead style='background-color: white'><tr><th>path</th><th>name</th><th>size</th><th>modificationTime</th></tr></thead><tbody><tr><td>dbfs:/FileStore/tables/Car-2.csv</td><td>Car-2.csv</td><td>3884</td><td>1705235497000</td></tr></tbody></table></div>"
      ]
     },
     "metadata": {
      "application/vnd.databricks.v1+output": {
       "addedWidgets": {},
       "aggData": [],
       "aggError": "",
       "aggOverflow": false,
       "aggSchema": [],
       "aggSeriesLimitReached": false,
       "aggType": "",
       "arguments": {},
       "columnCustomDisplayInfos": {},
       "data": [
        [
         "dbfs:/FileStore/tables/Car-2.csv",
         "Car-2.csv",
         3884,
         1705235497000
        ]
       ],
       "datasetInfos": [],
       "dbfsResultPath": null,
       "isJsonSchema": true,
       "metadata": {
        "isDbfsCommandResult": false
       },
       "overflow": false,
       "plotOptions": {
        "customPlotOptions": {},
        "displayType": "table",
        "pivotAggregation": null,
        "pivotColumns": null,
        "xColumns": null,
        "yColumns": null
       },
       "removedWidgets": [],
       "schema": [
        {
         "metadata": "{}",
         "name": "path",
         "type": "\"string\""
        },
        {
         "metadata": "{}",
         "name": "name",
         "type": "\"string\""
        },
        {
         "metadata": "{}",
         "name": "size",
         "type": "\"long\""
        },
        {
         "metadata": "{}",
         "name": "modificationTime",
         "type": "\"long\""
        }
       ],
       "type": "table"
      }
     },
     "output_type": "display_data"
    }
   ],
   "source": [
    "%fs \n",
    "\n",
    "ls /FileStore/tables/Car-2.csv"
   ]
  },
  {
   "cell_type": "code",
   "execution_count": 0,
   "metadata": {
    "application/vnd.databricks.v1+cell": {
     "cellMetadata": {
      "byteLimit": 2048000,
      "rowLimit": 10000
     },
     "inputWidgets": {},
     "nuid": "e45d6e77-d705-46b7-9d43-2055636b59c9",
     "showTitle": false,
     "title": ""
    }
   },
   "outputs": [
    {
     "output_type": "display_data",
     "data": {
      "text/html": [
       "<style scoped>\n",
       "  .table-result-container {\n",
       "    max-height: 300px;\n",
       "    overflow: auto;\n",
       "  }\n",
       "  table, th, td {\n",
       "    border: 1px solid black;\n",
       "    border-collapse: collapse;\n",
       "  }\n",
       "  th, td {\n",
       "    padding: 5px;\n",
       "  }\n",
       "  th {\n",
       "    text-align: left;\n",
       "  }\n",
       "</style><div class='table-result-container'><table class='table-result'><thead style='background-color: white'><tr><th>path</th><th>name</th><th>size</th><th>modificationTime</th></tr></thead><tbody><tr><td>dbfs:/FileStore/tables/Car-2.csv</td><td>Car-2.csv</td><td>3884</td><td>1705235497000</td></tr></tbody></table></div>"
      ]
     },
     "metadata": {
      "application/vnd.databricks.v1+output": {
       "addedWidgets": {},
       "aggData": [],
       "aggError": "",
       "aggOverflow": false,
       "aggSchema": [],
       "aggSeriesLimitReached": false,
       "aggType": "",
       "arguments": {},
       "columnCustomDisplayInfos": {},
       "data": [
        [
         "dbfs:/FileStore/tables/Car-2.csv",
         "Car-2.csv",
         3884,
         1705235497000
        ]
       ],
       "datasetInfos": [],
       "dbfsResultPath": null,
       "isJsonSchema": true,
       "metadata": {},
       "overflow": false,
       "plotOptions": {
        "customPlotOptions": {},
        "displayType": "table",
        "pivotAggregation": null,
        "pivotColumns": null,
        "xColumns": null,
        "yColumns": null
       },
       "removedWidgets": [],
       "schema": [
        {
         "metadata": "{}",
         "name": "path",
         "type": "\"string\""
        },
        {
         "metadata": "{}",
         "name": "name",
         "type": "\"string\""
        },
        {
         "metadata": "{}",
         "name": "size",
         "type": "\"long\""
        },
        {
         "metadata": "{}",
         "name": "modificationTime",
         "type": "\"long\""
        }
       ],
       "type": "table"
      }
     },
     "output_type": "display_data"
    }
   ],
   "source": [
    "display(dbutils.fs.ls(\"/FileStore/tables/Car-2.csv\"))"
   ]
  },
  {
   "cell_type": "code",
   "execution_count": 0,
   "metadata": {
    "application/vnd.databricks.v1+cell": {
     "cellMetadata": {
      "byteLimit": 2048000,
      "rowLimit": 10000
     },
     "inputWidgets": {},
     "nuid": "1bc95ca7-a02f-4813-a1ed-16384bbfe40f",
     "showTitle": false,
     "title": ""
    }
   },
   "outputs": [
    {
     "output_type": "display_data",
     "data": {
      "text/html": [
       "<style scoped>\n",
       "  .ansiout {\n",
       "    display: block;\n",
       "    unicode-bidi: embed;\n",
       "    white-space: pre-wrap;\n",
       "    word-wrap: break-word;\n",
       "    word-break: break-all;\n",
       "    font-family: \"Menlo\", \"Monaco\", \"Consolas\", \"Ubuntu Mono\", \"Source Code Pro\", monospace;\n",
       "    font-size: 13px;\n",
       "    color: #555;\n",
       "    margin-left: 4px;\n",
       "    line-height: 19px;\n",
       "  }\n",
       "</style>\n",
       "<div class=\"ansiout\"></div>"
      ]
     },
     "metadata": {
      "application/vnd.databricks.v1+output": {
       "addedWidgets": {},
       "arguments": {},
       "data": "<div class=\"ansiout\"></div>",
       "datasetInfos": [],
       "metadata": {
        "isDbfsCommandResult": false
       },
       "removedWidgets": [],
       "type": "html"
      }
     },
     "output_type": "display_data"
    }
   ],
   "source": [
    "%scala"
   ]
  },
  {
   "cell_type": "code",
   "execution_count": 0,
   "metadata": {
    "application/vnd.databricks.v1+cell": {
     "cellMetadata": {
      "byteLimit": 2048000,
      "rowLimit": 10000
     },
     "inputWidgets": {},
     "nuid": "b37499b6-0774-4637-b2ae-e262a291a672",
     "showTitle": false,
     "title": ""
    }
   },
   "outputs": [
    {
     "output_type": "display_data",
     "data": {
      "text/html": [
       "<style scoped>\n",
       "  .table-result-container {\n",
       "    max-height: 300px;\n",
       "    overflow: auto;\n",
       "  }\n",
       "  table, th, td {\n",
       "    border: 1px solid black;\n",
       "    border-collapse: collapse;\n",
       "  }\n",
       "  th, td {\n",
       "    padding: 5px;\n",
       "  }\n",
       "  th {\n",
       "    text-align: left;\n",
       "  }\n",
       "</style><div class='table-result-container'><table class='table-result'><thead style='background-color: white'><tr><th>Price_in_thousands</th><th>Engine_size</th><th>Horsepower</th><th>Fuel_efficiency</th><th>sales</th></tr></thead><tbody><tr><td>21.5</td><td>1.8</td><td>140</td><td>28</td><td>16.919</td></tr><tr><td>28.4</td><td>3.2</td><td>225</td><td>25</td><td>39.384</td></tr><tr><td>null</td><td>3.2</td><td>225</td><td>26</td><td>14.114</td></tr><tr><td>42.0</td><td>3.5</td><td>210</td><td>22</td><td>8.588</td></tr><tr><td>23.99</td><td>1.8</td><td>150</td><td>27</td><td>20.397</td></tr><tr><td>33.95</td><td>2.8</td><td>200</td><td>22</td><td>18.78</td></tr><tr><td>62.0</td><td>4.2</td><td>310</td><td>21</td><td>1.38</td></tr><tr><td>26.99</td><td>2.5</td><td>170</td><td>26</td><td>19.747</td></tr><tr><td>33.4</td><td>2.8</td><td>193</td><td>24</td><td>9.231</td></tr><tr><td>38.9</td><td>2.8</td><td>193</td><td>25</td><td>17.527</td></tr><tr><td>21.975</td><td>3.1</td><td>175</td><td>25</td><td>91.561</td></tr><tr><td>25.3</td><td>3.8</td><td>240</td><td>23</td><td>39.35</td></tr><tr><td>31.965</td><td>3.8</td><td>205</td><td>24</td><td>27.851</td></tr><tr><td>27.885</td><td>3.8</td><td>205</td><td>25</td><td>83.257</td></tr><tr><td>39.895</td><td>4.6</td><td>275</td><td>22</td><td>63.729</td></tr><tr><td>44.475</td><td>4.6</td><td>275</td><td>22</td><td>15.943</td></tr><tr><td>39.665</td><td>4.6</td><td>275</td><td>22</td><td>6.536</td></tr><tr><td>31.01</td><td>3.0</td><td>200</td><td>22</td><td>11.185</td></tr><tr><td>46.225</td><td>5.7</td><td>255</td><td>15</td><td>14.785</td></tr><tr><td>13.26</td><td>2.2</td><td>115</td><td>27</td><td>145.519</td></tr><tr><td>16.535</td><td>3.1</td><td>170</td><td>25</td><td>135.126</td></tr><tr><td>18.89</td><td>3.1</td><td>175</td><td>25</td><td>24.629</td></tr><tr><td>19.39</td><td>3.4</td><td>180</td><td>27</td><td>42.593</td></tr><tr><td>24.34</td><td>3.8</td><td>200</td><td>25</td><td>26.402</td></tr><tr><td>45.705</td><td>5.7</td><td>345</td><td>22</td><td>17.947</td></tr><tr><td>13.96</td><td>1.8</td><td>120</td><td>33</td><td>32.299</td></tr><tr><td>9.235</td><td>1.0</td><td>55</td><td>45</td><td>21.855</td></tr><tr><td>18.89</td><td>3.4</td><td>180</td><td>27</td><td>107.995</td></tr><tr><td>19.84</td><td>2.5</td><td>163</td><td>24</td><td>7.854</td></tr><tr><td>24.495</td><td>2.5</td><td>168</td><td>24</td><td>32.775</td></tr><tr><td>22.245</td><td>2.7</td><td>200</td><td>26</td><td>31.148</td></tr><tr><td>16.48</td><td>2.0</td><td>132</td><td>27</td><td>32.306</td></tr><tr><td>28.34</td><td>3.5</td><td>253</td><td>23</td><td>13.462</td></tr><tr><td>null</td><td>null</td><td>null</td><td>null</td><td>53.48</td></tr><tr><td>29.185</td><td>3.5</td><td>253</td><td>23</td><td>30.696</td></tr><tr><td>12.64</td><td>2.0</td><td>132</td><td>29</td><td>76.034</td></tr><tr><td>19.045</td><td>2.5</td><td>163</td><td>24</td><td>4.734</td></tr><tr><td>20.23</td><td>2.5</td><td>168</td><td>24</td><td>71.186</td></tr><tr><td>22.505</td><td>2.7</td><td>202</td><td>null</td><td>88.028</td></tr><tr><td>69.725</td><td>8.0</td><td>450</td><td>16</td><td>0.916</td></tr><tr><td>19.46</td><td>5.2</td><td>230</td><td>17</td><td>227.061</td></tr><tr><td>21.315</td><td>3.9</td><td>175</td><td>15</td><td>16.767</td></tr><tr><td>18.575</td><td>3.9</td><td>175</td><td>16</td><td>31.038</td></tr><tr><td>16.98</td><td>2.5</td><td>120</td><td>19</td><td>111.313</td></tr><tr><td>26.31</td><td>5.2</td><td>230</td><td>17</td><td>101.323</td></tr><tr><td>19.565</td><td>2.4</td><td>150</td><td>24</td><td>181.749</td></tr><tr><td>12.07</td><td>2.0</td><td>110</td><td>30</td><td>70.227</td></tr><tr><td>21.56</td><td>3.8</td><td>190</td><td>24</td><td>113.369</td></tr><tr><td>17.035</td><td>2.5</td><td>170</td><td>25</td><td>35.068</td></tr><tr><td>17.885</td><td>3.0</td><td>155</td><td>24</td><td>245.815</td></tr><tr><td>12.315</td><td>2.0</td><td>107</td><td>30</td><td>175.67</td></tr><tr><td>22.195</td><td>4.6</td><td>200</td><td>21</td><td>63.403</td></tr><tr><td>31.93</td><td>4.0</td><td>210</td><td>19</td><td>276.747</td></tr><tr><td>21.41</td><td>3.0</td><td>150</td><td>21</td><td>155.787</td></tr><tr><td>36.135</td><td>4.6</td><td>240</td><td>16</td><td>125.338</td></tr><tr><td>12.05</td><td>2.5</td><td>119</td><td>23</td><td>220.65</td></tr><tr><td>26.935</td><td>4.6</td><td>220</td><td>18</td><td>540.561</td></tr><tr><td>12.885</td><td>1.6</td><td>106</td><td>32</td><td>199.685</td></tr><tr><td>15.35</td><td>2.3</td><td>135</td><td>27</td><td>230.902</td></tr><tr><td>20.55</td><td>2.0</td><td>146</td><td>24</td><td>73.203</td></tr><tr><td>26.6</td><td>3.2</td><td>205</td><td>19</td><td>12.855</td></tr><tr><td>26.0</td><td>3.5</td><td>210</td><td>23</td><td>76.029</td></tr><tr><td>9.699</td><td>1.5</td><td>92</td><td>31</td><td>41.184</td></tr><tr><td>11.799</td><td>2.0</td><td>140</td><td>27</td><td>66.692</td></tr><tr><td>14.999</td><td>2.4</td><td>148</td><td>25</td><td>29.45</td></tr><tr><td>29.465</td><td>3.0</td><td>227</td><td>25</td><td>23.713</td></tr><tr><td>42.8</td><td>3.0</td><td>240</td><td>21</td><td>15.467</td></tr><tr><td>14.46</td><td>2.5</td><td>120</td><td>17</td><td>55.557</td></tr><tr><td>21.62</td><td>4.0</td><td>190</td><td>20</td><td>80.556</td></tr><tr><td>26.895</td><td>4.0</td><td>195</td><td>19</td><td>157.04</td></tr><tr><td>31.505</td><td>3.0</td><td>210</td><td>23</td><td>24.072</td></tr><tr><td>37.805</td><td>3.0</td><td>225</td><td>23</td><td>12.698</td></tr><tr><td>46.305</td><td>4.0</td><td>300</td><td>21</td><td>3.334</td></tr><tr><td>54.005</td><td>4.0</td><td>290</td><td>22</td><td>6.375</td></tr><tr><td>60.105</td><td>4.7</td><td>230</td><td>15</td><td>9.126</td></tr><tr><td>34.605</td><td>3.0</td><td>220</td><td>21</td><td>51.238</td></tr><tr><td>39.08</td><td>4.6</td><td>275</td><td>22</td><td>13.798</td></tr><tr><td>43.33</td><td>4.6</td><td>215</td><td>21</td><td>48.911</td></tr><tr><td>42.66</td><td>5.4</td><td>300</td><td>15</td><td>22.925</td></tr><tr><td>13.987</td><td>1.8</td><td>113</td><td>30</td><td>26.232</td></tr><tr><td>19.047</td><td>2.4</td><td>154</td><td>24</td><td>42.541</td></tr><tr><td>17.357</td><td>2.4</td><td>145</td><td>25</td><td>55.616</td></tr><tr><td>24.997</td><td>3.5</td><td>210</td><td>22</td><td>5.711</td></tr><tr><td>25.45</td><td>3.0</td><td>161</td><td>21</td><td>0.11</td></tr><tr><td>31.807</td><td>3.5</td><td>200</td><td>18</td><td>11.337</td></tr><tr><td>22.527</td><td>3.0</td><td>173</td><td>20</td><td>39.348</td></tr><tr><td>16.24</td><td>2.0</td><td>125</td><td>28</td><td>14.351</td></tr><tr><td>16.54</td><td>2.0</td><td>125</td><td>30</td><td>26.529</td></tr><tr><td>19.035</td><td>3.0</td><td>153</td><td>24</td><td>67.956</td></tr><tr><td>22.605</td><td>4.6</td><td>200</td><td>21</td><td>81.174</td></tr><tr><td>27.56</td><td>4.0</td><td>210</td><td>18</td><td>27.609</td></tr><tr><td>22.51</td><td>3.3</td><td>170</td><td>21</td><td>20.38</td></tr><tr><td>31.75</td><td>2.3</td><td>185</td><td>26</td><td>18.392</td></tr><tr><td>49.9</td><td>3.2</td><td>221</td><td>25</td><td>27.602</td></tr><tr><td>69.7</td><td>4.3</td><td>275</td><td>21</td><td>16.774</td></tr><tr><td>82.6</td><td>5.0</td><td>302</td><td>20</td><td>3.311</td></tr><tr><td>38.9</td><td>2.3</td><td>190</td><td>26</td><td>7.998</td></tr><tr><td>41.0</td><td>2.3</td><td>185</td><td>27</td><td>1.526</td></tr><tr><td>41.6</td><td>3.2</td><td>215</td><td>26</td><td>11.592</td></tr><tr><td>85.5</td><td>5.0</td><td>302</td><td>20</td><td>0.954</td></tr><tr><td>35.3</td><td>3.2</td><td>215</td><td>20</td><td>28.976</td></tr><tr><td>13.499</td><td>1.8</td><td>126</td><td>30</td><td>42.643</td></tr><tr><td>20.39</td><td>2.4</td><td>155</td><td>25</td><td>88.094</td></tr><tr><td>26.249</td><td>3.0</td><td>222</td><td>25</td><td>79.853</td></tr><tr><td>26.399</td><td>3.3</td><td>170</td><td>21</td><td>27.308</td></tr><tr><td>29.299</td><td>3.3</td><td>170</td><td>19</td><td>42.574</td></tr><tr><td>22.799</td><td>3.3</td><td>170</td><td>18</td><td>54.158</td></tr><tr><td>17.89</td><td>3.3</td><td>170</td><td>18</td><td>65.005</td></tr><tr><td>18.145</td><td>3.1</td><td>150</td><td>25</td><td>1.112</td></tr><tr><td>24.15</td><td>3.5</td><td>215</td><td>null</td><td>38.554</td></tr><tr><td>18.27</td><td>2.4</td><td>150</td><td>27</td><td>80.255</td></tr><tr><td>36.229</td><td>4.0</td><td>250</td><td>22</td><td>14.69</td></tr><tr><td>31.598</td><td>4.3</td><td>190</td><td>19</td><td>20.017</td></tr><tr><td>25.345</td><td>3.4</td><td>185</td><td>22</td><td>24.361</td></tr><tr><td>12.64</td><td>2.0</td><td>132</td><td>29</td><td>32.734</td></tr><tr><td>16.08</td><td>2.0</td><td>132</td><td>27</td><td>5.24</td></tr><tr><td>18.85</td><td>2.4</td><td>150</td><td>24</td><td>24.155</td></tr><tr><td>43.0</td><td>3.5</td><td>253</td><td>21</td><td>1.872</td></tr><tr><td>21.61</td><td>2.4</td><td>150</td><td>27</td><td>51.645</td></tr><tr><td>19.72</td><td>3.4</td><td>175</td><td>25</td><td>131.097</td></tr><tr><td>25.31</td><td>3.8</td><td>200</td><td>25</td><td>19.911</td></tr><tr><td>21.665</td><td>3.8</td><td>195</td><td>25</td><td>92.364</td></tr><tr><td>23.755</td><td>3.8</td><td>205</td><td>24</td><td>35.945</td></tr><tr><td>25.635</td><td>3.4</td><td>185</td><td>23</td><td>39.572</td></tr><tr><td>41.43</td><td>2.7</td><td>217</td><td>22</td><td>8.982</td></tr><tr><td>71.02</td><td>3.4</td><td>300</td><td>21</td><td>1.28</td></tr><tr><td>74.97</td><td>3.4</td><td>300</td><td>23</td><td>1.866</td></tr><tr><td>33.12</td><td>2.3</td><td>170</td><td>23</td><td>9.191</td></tr><tr><td>26.1</td><td>2.0</td><td>185</td><td>23</td><td>12.115</td></tr><tr><td>10.685</td><td>1.9</td><td>100</td><td>33</td><td>80.62</td></tr><tr><td>12.535</td><td>1.9</td><td>100</td><td>33</td><td>24.546</td></tr><tr><td>14.29</td><td>1.9</td><td>124</td><td>31</td><td>5.223</td></tr><tr><td>18.835</td><td>2.2</td><td>137</td><td>27</td><td>8.472</td></tr><tr><td>15.01</td><td>2.2</td><td>137</td><td>28</td><td>49.989</td></tr><tr><td>22.695</td><td>2.5</td><td>165</td><td>25</td><td>47.107</td></tr><tr><td>20.095</td><td>2.5</td><td>165</td><td>24</td><td>33.028</td></tr><tr><td>13.108</td><td>1.8</td><td>120</td><td>33</td><td>142.535</td></tr><tr><td>17.518</td><td>2.2</td><td>133</td><td>27</td><td>247.994</td></tr><tr><td>25.545</td><td>3.0</td><td>210</td><td>26</td><td>63.849</td></tr><tr><td>16.875</td><td>1.8</td><td>140</td><td>31</td><td>33.269</td></tr><tr><td>11.528</td><td>2.4</td><td>142</td><td>23</td><td>84.087</td></tr><tr><td>22.368</td><td>3.0</td><td>194</td><td>22</td><td>65.119</td></tr><tr><td>16.888</td><td>2.0</td><td>127</td><td>27</td><td>25.106</td></tr><tr><td>22.288</td><td>2.7</td><td>150</td><td>23</td><td>68.411</td></tr><tr><td>51.728</td><td>4.7</td><td>230</td><td>15</td><td>9.835</td></tr><tr><td>14.9</td><td>2.0</td><td>115</td><td>26</td><td>9.761</td></tr><tr><td>16.7</td><td>2.0</td><td>115</td><td>26</td><td>83.721</td></tr><tr><td>21.2</td><td>1.8</td><td>150</td><td>27</td><td>51.102</td></tr><tr><td>19.99</td><td>2.0</td><td>115</td><td>26</td><td>9.569</td></tr><tr><td>17.5</td><td>2.0</td><td>115</td><td>26</td><td>5.596</td></tr><tr><td>15.9</td><td>2.0</td><td>115</td><td>26</td><td>49.463</td></tr><tr><td>23.4</td><td>1.9</td><td>160</td><td>25</td><td>16.957</td></tr><tr><td>24.4</td><td>1.9</td><td>160</td><td>25</td><td>3.545</td></tr><tr><td>27.5</td><td>2.4</td><td>168</td><td>25</td><td>15.245</td></tr><tr><td>28.8</td><td>2.4</td><td>168</td><td>25</td><td>17.531</td></tr><tr><td>45.5</td><td>2.3</td><td>236</td><td>23</td><td>3.493</td></tr><tr><td>36.0</td><td>2.9</td><td>201</td><td>24</td><td>18.969</td></tr></tbody></table></div>"
      ]
     },
     "metadata": {
      "application/vnd.databricks.v1+output": {
       "addedWidgets": {},
       "aggData": [],
       "aggError": "",
       "aggOverflow": false,
       "aggSchema": [],
       "aggSeriesLimitReached": false,
       "aggType": "",
       "arguments": {},
       "columnCustomDisplayInfos": {},
       "data": [
        [
         21.5,
         1.8,
         140,
         28,
         16.919
        ],
        [
         28.4,
         3.2,
         225,
         25,
         39.384
        ],
        [
         null,
         3.2,
         225,
         26,
         14.114
        ],
        [
         42.0,
         3.5,
         210,
         22,
         8.588
        ],
        [
         23.99,
         1.8,
         150,
         27,
         20.397
        ],
        [
         33.95,
         2.8,
         200,
         22,
         18.78
        ],
        [
         62.0,
         4.2,
         310,
         21,
         1.38
        ],
        [
         26.99,
         2.5,
         170,
         26,
         19.747
        ],
        [
         33.4,
         2.8,
         193,
         24,
         9.231
        ],
        [
         38.9,
         2.8,
         193,
         25,
         17.527
        ],
        [
         21.975,
         3.1,
         175,
         25,
         91.561
        ],
        [
         25.3,
         3.8,
         240,
         23,
         39.35
        ],
        [
         31.965,
         3.8,
         205,
         24,
         27.851
        ],
        [
         27.885,
         3.8,
         205,
         25,
         83.257
        ],
        [
         39.895,
         4.6,
         275,
         22,
         63.729
        ],
        [
         44.475,
         4.6,
         275,
         22,
         15.943
        ],
        [
         39.665,
         4.6,
         275,
         22,
         6.536
        ],
        [
         31.01,
         3.0,
         200,
         22,
         11.185
        ],
        [
         46.225,
         5.7,
         255,
         15,
         14.785
        ],
        [
         13.26,
         2.2,
         115,
         27,
         145.519
        ],
        [
         16.535,
         3.1,
         170,
         25,
         135.126
        ],
        [
         18.89,
         3.1,
         175,
         25,
         24.629
        ],
        [
         19.39,
         3.4,
         180,
         27,
         42.593
        ],
        [
         24.34,
         3.8,
         200,
         25,
         26.402
        ],
        [
         45.705,
         5.7,
         345,
         22,
         17.947
        ],
        [
         13.96,
         1.8,
         120,
         33,
         32.299
        ],
        [
         9.235,
         1.0,
         55,
         45,
         21.855
        ],
        [
         18.89,
         3.4,
         180,
         27,
         107.995
        ],
        [
         19.84,
         2.5,
         163,
         24,
         7.854
        ],
        [
         24.495,
         2.5,
         168,
         24,
         32.775
        ],
        [
         22.245,
         2.7,
         200,
         26,
         31.148
        ],
        [
         16.48,
         2.0,
         132,
         27,
         32.306
        ],
        [
         28.34,
         3.5,
         253,
         23,
         13.462
        ],
        [
         null,
         null,
         null,
         null,
         53.48
        ],
        [
         29.185,
         3.5,
         253,
         23,
         30.696
        ],
        [
         12.64,
         2.0,
         132,
         29,
         76.034
        ],
        [
         19.045,
         2.5,
         163,
         24,
         4.734
        ],
        [
         20.23,
         2.5,
         168,
         24,
         71.186
        ],
        [
         22.505,
         2.7,
         202,
         null,
         88.028
        ],
        [
         69.725,
         8.0,
         450,
         16,
         0.916
        ],
        [
         19.46,
         5.2,
         230,
         17,
         227.061
        ],
        [
         21.315,
         3.9,
         175,
         15,
         16.767
        ],
        [
         18.575,
         3.9,
         175,
         16,
         31.038
        ],
        [
         16.98,
         2.5,
         120,
         19,
         111.313
        ],
        [
         26.31,
         5.2,
         230,
         17,
         101.323
        ],
        [
         19.565,
         2.4,
         150,
         24,
         181.749
        ],
        [
         12.07,
         2.0,
         110,
         30,
         70.227
        ],
        [
         21.56,
         3.8,
         190,
         24,
         113.369
        ],
        [
         17.035,
         2.5,
         170,
         25,
         35.068
        ],
        [
         17.885,
         3.0,
         155,
         24,
         245.815
        ],
        [
         12.315,
         2.0,
         107,
         30,
         175.67
        ],
        [
         22.195,
         4.6,
         200,
         21,
         63.403
        ],
        [
         31.93,
         4.0,
         210,
         19,
         276.747
        ],
        [
         21.41,
         3.0,
         150,
         21,
         155.787
        ],
        [
         36.135,
         4.6,
         240,
         16,
         125.338
        ],
        [
         12.05,
         2.5,
         119,
         23,
         220.65
        ],
        [
         26.935,
         4.6,
         220,
         18,
         540.561
        ],
        [
         12.885,
         1.6,
         106,
         32,
         199.685
        ],
        [
         15.35,
         2.3,
         135,
         27,
         230.902
        ],
        [
         20.55,
         2.0,
         146,
         24,
         73.203
        ],
        [
         26.6,
         3.2,
         205,
         19,
         12.855
        ],
        [
         26.0,
         3.5,
         210,
         23,
         76.029
        ],
        [
         9.699,
         1.5,
         92,
         31,
         41.184
        ],
        [
         11.799,
         2.0,
         140,
         27,
         66.692
        ],
        [
         14.999,
         2.4,
         148,
         25,
         29.45
        ],
        [
         29.465,
         3.0,
         227,
         25,
         23.713
        ],
        [
         42.8,
         3.0,
         240,
         21,
         15.467
        ],
        [
         14.46,
         2.5,
         120,
         17,
         55.557
        ],
        [
         21.62,
         4.0,
         190,
         20,
         80.556
        ],
        [
         26.895,
         4.0,
         195,
         19,
         157.04
        ],
        [
         31.505,
         3.0,
         210,
         23,
         24.072
        ],
        [
         37.805,
         3.0,
         225,
         23,
         12.698
        ],
        [
         46.305,
         4.0,
         300,
         21,
         3.334
        ],
        [
         54.005,
         4.0,
         290,
         22,
         6.375
        ],
        [
         60.105,
         4.7,
         230,
         15,
         9.126
        ],
        [
         34.605,
         3.0,
         220,
         21,
         51.238
        ],
        [
         39.08,
         4.6,
         275,
         22,
         13.798
        ],
        [
         43.33,
         4.6,
         215,
         21,
         48.911
        ],
        [
         42.66,
         5.4,
         300,
         15,
         22.925
        ],
        [
         13.987,
         1.8,
         113,
         30,
         26.232
        ],
        [
         19.047,
         2.4,
         154,
         24,
         42.541
        ],
        [
         17.357,
         2.4,
         145,
         25,
         55.616
        ],
        [
         24.997,
         3.5,
         210,
         22,
         5.711
        ],
        [
         25.45,
         3.0,
         161,
         21,
         0.11
        ],
        [
         31.807,
         3.5,
         200,
         18,
         11.337
        ],
        [
         22.527,
         3.0,
         173,
         20,
         39.348
        ],
        [
         16.24,
         2.0,
         125,
         28,
         14.351
        ],
        [
         16.54,
         2.0,
         125,
         30,
         26.529
        ],
        [
         19.035,
         3.0,
         153,
         24,
         67.956
        ],
        [
         22.605,
         4.6,
         200,
         21,
         81.174
        ],
        [
         27.56,
         4.0,
         210,
         18,
         27.609
        ],
        [
         22.51,
         3.3,
         170,
         21,
         20.38
        ],
        [
         31.75,
         2.3,
         185,
         26,
         18.392
        ],
        [
         49.9,
         3.2,
         221,
         25,
         27.602
        ],
        [
         69.7,
         4.3,
         275,
         21,
         16.774
        ],
        [
         82.6,
         5.0,
         302,
         20,
         3.311
        ],
        [
         38.9,
         2.3,
         190,
         26,
         7.998
        ],
        [
         41.0,
         2.3,
         185,
         27,
         1.526
        ],
        [
         41.6,
         3.2,
         215,
         26,
         11.592
        ],
        [
         85.5,
         5.0,
         302,
         20,
         0.954
        ],
        [
         35.3,
         3.2,
         215,
         20,
         28.976
        ],
        [
         13.499,
         1.8,
         126,
         30,
         42.643
        ],
        [
         20.39,
         2.4,
         155,
         25,
         88.094
        ],
        [
         26.249,
         3.0,
         222,
         25,
         79.853
        ],
        [
         26.399,
         3.3,
         170,
         21,
         27.308
        ],
        [
         29.299,
         3.3,
         170,
         19,
         42.574
        ],
        [
         22.799,
         3.3,
         170,
         18,
         54.158
        ],
        [
         17.89,
         3.3,
         170,
         18,
         65.005
        ],
        [
         18.145,
         3.1,
         150,
         25,
         1.112
        ],
        [
         24.15,
         3.5,
         215,
         null,
         38.554
        ],
        [
         18.27,
         2.4,
         150,
         27,
         80.255
        ],
        [
         36.229,
         4.0,
         250,
         22,
         14.69
        ],
        [
         31.598,
         4.3,
         190,
         19,
         20.017
        ],
        [
         25.345,
         3.4,
         185,
         22,
         24.361
        ],
        [
         12.64,
         2.0,
         132,
         29,
         32.734
        ],
        [
         16.08,
         2.0,
         132,
         27,
         5.24
        ],
        [
         18.85,
         2.4,
         150,
         24,
         24.155
        ],
        [
         43.0,
         3.5,
         253,
         21,
         1.872
        ],
        [
         21.61,
         2.4,
         150,
         27,
         51.645
        ],
        [
         19.72,
         3.4,
         175,
         25,
         131.097
        ],
        [
         25.31,
         3.8,
         200,
         25,
         19.911
        ],
        [
         21.665,
         3.8,
         195,
         25,
         92.364
        ],
        [
         23.755,
         3.8,
         205,
         24,
         35.945
        ],
        [
         25.635,
         3.4,
         185,
         23,
         39.572
        ],
        [
         41.43,
         2.7,
         217,
         22,
         8.982
        ],
        [
         71.02,
         3.4,
         300,
         21,
         1.28
        ],
        [
         74.97,
         3.4,
         300,
         23,
         1.866
        ],
        [
         33.12,
         2.3,
         170,
         23,
         9.191
        ],
        [
         26.1,
         2.0,
         185,
         23,
         12.115
        ],
        [
         10.685,
         1.9,
         100,
         33,
         80.62
        ],
        [
         12.535,
         1.9,
         100,
         33,
         24.546
        ],
        [
         14.29,
         1.9,
         124,
         31,
         5.223
        ],
        [
         18.835,
         2.2,
         137,
         27,
         8.472
        ],
        [
         15.01,
         2.2,
         137,
         28,
         49.989
        ],
        [
         22.695,
         2.5,
         165,
         25,
         47.107
        ],
        [
         20.095,
         2.5,
         165,
         24,
         33.028
        ],
        [
         13.108,
         1.8,
         120,
         33,
         142.535
        ],
        [
         17.518,
         2.2,
         133,
         27,
         247.994
        ],
        [
         25.545,
         3.0,
         210,
         26,
         63.849
        ],
        [
         16.875,
         1.8,
         140,
         31,
         33.269
        ],
        [
         11.528,
         2.4,
         142,
         23,
         84.087
        ],
        [
         22.368,
         3.0,
         194,
         22,
         65.119
        ],
        [
         16.888,
         2.0,
         127,
         27,
         25.106
        ],
        [
         22.288,
         2.7,
         150,
         23,
         68.411
        ],
        [
         51.728,
         4.7,
         230,
         15,
         9.835
        ],
        [
         14.9,
         2.0,
         115,
         26,
         9.761
        ],
        [
         16.7,
         2.0,
         115,
         26,
         83.721
        ],
        [
         21.2,
         1.8,
         150,
         27,
         51.102
        ],
        [
         19.99,
         2.0,
         115,
         26,
         9.569
        ],
        [
         17.5,
         2.0,
         115,
         26,
         5.596
        ],
        [
         15.9,
         2.0,
         115,
         26,
         49.463
        ],
        [
         23.4,
         1.9,
         160,
         25,
         16.957
        ],
        [
         24.4,
         1.9,
         160,
         25,
         3.545
        ],
        [
         27.5,
         2.4,
         168,
         25,
         15.245
        ],
        [
         28.8,
         2.4,
         168,
         25,
         17.531
        ],
        [
         45.5,
         2.3,
         236,
         23,
         3.493
        ],
        [
         36.0,
         2.9,
         201,
         24,
         18.969
        ]
       ],
       "datasetInfos": [],
       "dbfsResultPath": null,
       "isJsonSchema": true,
       "metadata": {},
       "overflow": false,
       "plotOptions": {
        "customPlotOptions": {},
        "displayType": "table",
        "pivotAggregation": null,
        "pivotColumns": null,
        "xColumns": null,
        "yColumns": null
       },
       "removedWidgets": [],
       "schema": [
        {
         "metadata": "{}",
         "name": "Price_in_thousands",
         "type": "\"double\""
        },
        {
         "metadata": "{}",
         "name": "Engine_size",
         "type": "\"double\""
        },
        {
         "metadata": "{}",
         "name": "Horsepower",
         "type": "\"integer\""
        },
        {
         "metadata": "{}",
         "name": "Fuel_efficiency",
         "type": "\"integer\""
        },
        {
         "metadata": "{}",
         "name": "sales",
         "type": "\"double\""
        }
       ],
       "type": "table"
      }
     },
     "output_type": "display_data"
    }
   ],
   "source": [
    "sales_data = spark.read.option(\"inferSchema\",\"true\").option(\"header\", \"true\").csv(\"/FileStore/tables/Car-2.csv\")\n",
    "display(sales_data)"
   ]
  },
  {
   "cell_type": "code",
   "execution_count": 0,
   "metadata": {
    "application/vnd.databricks.v1+cell": {
     "cellMetadata": {
      "byteLimit": 2048000,
      "rowLimit": 10000
     },
     "inputWidgets": {},
     "nuid": "6363b7d0-8cee-461c-93f2-815cf342345a",
     "showTitle": false,
     "title": ""
    }
   },
   "outputs": [
    {
     "output_type": "stream",
     "name": "stdout",
     "output_type": "stream",
     "text": [
      "root\n |-- Price_in_thousands: double (nullable = true)\n |-- Engine_size: double (nullable = true)\n |-- Horsepower: integer (nullable = true)\n |-- Fuel_efficiency: integer (nullable = true)\n |-- sales: double (nullable = true)\n\n"
     ]
    }
   ],
   "source": [
    "sales_data.printSchema()"
   ]
  },
  {
   "cell_type": "code",
   "execution_count": 0,
   "metadata": {
    "application/vnd.databricks.v1+cell": {
     "cellMetadata": {
      "byteLimit": 2048000,
      "rowLimit": 10000
     },
     "inputWidgets": {},
     "nuid": "f7474c1d-10e3-4d65-8494-e274961acd05",
     "showTitle": false,
     "title": ""
    }
   },
   "outputs": [],
   "source": [
    "sales_data.createOrReplaceTempView(\"sales_data\")"
   ]
  },
  {
   "cell_type": "code",
   "execution_count": 0,
   "metadata": {
    "application/vnd.databricks.v1+cell": {
     "cellMetadata": {
      "byteLimit": 2048000,
      "rowLimit": 10000
     },
     "inputWidgets": {},
     "nuid": "8825d70e-831e-4826-81fd-f72d2a98d756",
     "showTitle": false,
     "title": ""
    }
   },
   "outputs": [],
   "source": [
    "spark = SparkSession \\\n",
    "    .builder \\\n",
    "    .master(\"local\") \\\n",
    "    .appName(\"Protob Conversion to Parquet\") \\\n",
    "    .config(\"spark.some.config.option\", \"some-value\") \\\n",
    "    .getOrCreate()\n"
   ]
  },
  {
   "cell_type": "code",
   "execution_count": 0,
   "metadata": {
    "application/vnd.databricks.v1+cell": {
     "cellMetadata": {
      "byteLimit": 2048000,
      "rowLimit": 10000
     },
     "inputWidgets": {},
     "nuid": "cb326ba3-ef72-4c6e-8561-f508f6fe848b",
     "showTitle": false,
     "title": ""
    }
   },
   "outputs": [],
   "source": [
    "df = spark.read.csv('/FileStore/tables/Car-2.csv')"
   ]
  },
  {
   "cell_type": "code",
   "execution_count": 0,
   "metadata": {
    "application/vnd.databricks.v1+cell": {
     "cellMetadata": {
      "byteLimit": 2048000,
      "rowLimit": 10000
     },
     "inputWidgets": {},
     "nuid": "f3b231b1-5d2b-447a-9e3e-0c1d84bea93d",
     "showTitle": false,
     "title": ""
    }
   },
   "outputs": [],
   "source": [
    "# Example code in a Databricks notebook\n",
    "from pyspark.sql import SparkSession\n",
    "\n",
    "spark = SparkSession.builder.appName(\"example\").getOrCreate()\n",
    "\n",
    "# Define your data source (CSV file in Databricks FileStore)\n",
    "data_source = \"/FileStore/tables/Car-2.csv\"\n",
    "\n",
    "# Create a Delta Lake table\n",
    "spark.read.format(\"csv\").option(\"header\", \"true\").load(data_source).write.format(\"delta\").save(\"/mnt/delta-lake-storage/delta-table\")"
   ]
  },
  {
   "cell_type": "code",
   "execution_count": 0,
   "metadata": {
    "application/vnd.databricks.v1+cell": {
     "cellMetadata": {
      "byteLimit": 2048000,
      "rowLimit": 10000
     },
     "inputWidgets": {},
     "nuid": "c41c51f4-9835-4df5-83c7-f9b06a390f37",
     "showTitle": false,
     "title": ""
    }
   },
   "outputs": [],
   "source": [
    "# Example code in a Databricks notebook\n",
    "delta_table = spark.read.format(\"delta\").load(\"/mnt/delta-lake-storage/delta-table\")\n"
   ]
  },
  {
   "cell_type": "code",
   "execution_count": 0,
   "metadata": {
    "application/vnd.databricks.v1+cell": {
     "cellMetadata": {
      "byteLimit": 2048000,
      "rowLimit": 10000
     },
     "inputWidgets": {},
     "nuid": "0535c59b-198b-4b49-8920-272dc67a299a",
     "showTitle": false,
     "title": ""
    }
   },
   "outputs": [
    {
     "output_type": "stream",
     "name": "stdout",
     "output_type": "stream",
     "text": [
      "+------------------+-----------+----------+---------------+-------+\n|Price_in_thousands|Engine_size|Horsepower|Fuel_efficiency|  sales|\n+------------------+-----------+----------+---------------+-------+\n|              21.5|        1.8|       140|             28| 16.919|\n|              28.4|        3.2|       225|             25| 39.384|\n|                42|        3.5|       210|             22|  8.588|\n|             23.99|        1.8|       150|             27| 20.397|\n|             33.95|        2.8|       200|             22|  18.78|\n|                62|        4.2|       310|             21|   1.38|\n|             26.99|        2.5|       170|             26| 19.747|\n|              33.4|        2.8|       193|             24|  9.231|\n|              38.9|        2.8|       193|             25| 17.527|\n|            21.975|        3.1|       175|             25| 91.561|\n|              25.3|        3.8|       240|             23|  39.35|\n|            31.965|        3.8|       205|             24| 27.851|\n|            27.885|        3.8|       205|             25| 83.257|\n|            39.895|        4.6|       275|             22| 63.729|\n|            44.475|        4.6|       275|             22| 15.943|\n|            39.665|        4.6|       275|             22|  6.536|\n|             31.01|          3|       200|             22| 11.185|\n|            46.225|        5.7|       255|             15| 14.785|\n|             13.26|        2.2|       115|             27|145.519|\n|            16.535|        3.1|       170|             25|135.126|\n+------------------+-----------+----------+---------------+-------+\nonly showing top 20 rows\n\n"
     ]
    }
   ],
   "source": [
    "# Example code in a Databricks notebook\n",
    "delta_table = spark.read.format(\"delta\").load(\"/mnt/delta-lake-storage/delta-table\")\n",
    "\n",
    "# Correcting the column name to one of the suggested names\n",
    "delta_table.filter(delta_table[\"Price_in_thousands\"] > 10).show()\n"
   ]
  },
  {
   "cell_type": "code",
   "execution_count": 0,
   "metadata": {
    "application/vnd.databricks.v1+cell": {
     "cellMetadata": {
      "byteLimit": 2048000,
      "rowLimit": 10000
     },
     "inputWidgets": {},
     "nuid": "39954abd-8105-409b-89cc-449be5369cb3",
     "showTitle": false,
     "title": ""
    }
   },
   "outputs": [
    {
     "output_type": "stream",
     "name": "stdout",
     "output_type": "stream",
     "text": [
      "root\n |-- Price_in_thousands: string (nullable = true)\n |-- Engine_size: string (nullable = true)\n |-- Horsepower: string (nullable = true)\n |-- Fuel_efficiency: string (nullable = true)\n |-- sales: string (nullable = true)\n\n"
     ]
    }
   ],
   "source": [
    "delta_table.printSchema()"
   ]
  },
  {
   "cell_type": "code",
   "execution_count": 0,
   "metadata": {
    "application/vnd.databricks.v1+cell": {
     "cellMetadata": {
      "byteLimit": 2048000,
      "rowLimit": 10000
     },
     "inputWidgets": {},
     "nuid": "ea42fddc-4bad-4bd4-8429-cb5f56745f07",
     "showTitle": false,
     "title": ""
    }
   },
   "outputs": [],
   "source": [
    "# Example code in a Databricks notebook with an alias\n",
    "df1 = spark.read.format(\"delta\").load(\"/mnt/delta-lake-storage/delta-table\")\n"
   ]
  },
  {
   "cell_type": "code",
   "execution_count": 0,
   "metadata": {
    "application/vnd.databricks.v1+cell": {
     "cellMetadata": {
      "byteLimit": 2048000,
      "rowLimit": 10000
     },
     "inputWidgets": {},
     "nuid": "7d3f6364-94c9-4531-9f85-007e1ece18a4",
     "showTitle": false,
     "title": ""
    }
   },
   "outputs": [
    {
     "output_type": "display_data",
     "data": {
      "text/html": [
       "<style scoped>\n",
       "  .table-result-container {\n",
       "    max-height: 300px;\n",
       "    overflow: auto;\n",
       "  }\n",
       "  table, th, td {\n",
       "    border: 1px solid black;\n",
       "    border-collapse: collapse;\n",
       "  }\n",
       "  th, td {\n",
       "    padding: 5px;\n",
       "  }\n",
       "  th {\n",
       "    text-align: left;\n",
       "  }\n",
       "</style><div class='table-result-container'><table class='table-result'><thead style='background-color: white'><tr><th>Price_in_thousands</th><th>count</th></tr></thead><tbody><tr><td>12.535</td><td>1</td></tr><tr><td>15.35</td><td>1</td></tr><tr><td>16.888</td><td>1</td></tr><tr><td>39.895</td><td>1</td></tr><tr><td>44.475</td><td>1</td></tr><tr><td>14.999</td><td>1</td></tr><tr><td>21.56</td><td>1</td></tr><tr><td>26.895</td><td>1</td></tr><tr><td>42</td><td>1</td></tr><tr><td>25.635</td><td>1</td></tr><tr><td>25.345</td><td>1</td></tr><tr><td>16.875</td><td>1</td></tr><tr><td>16.7</td><td>1</td></tr><tr><td>21.5</td><td>1</td></tr><tr><td>21.62</td><td>1</td></tr><tr><td>28.34</td><td>1</td></tr><tr><td>22.288</td><td>1</td></tr><tr><td>17.357</td><td>1</td></tr><tr><td>18.145</td><td>1</td></tr><tr><td>19.047</td><td>1</td></tr><tr><td>17.5</td><td>1</td></tr><tr><td>36.229</td><td>1</td></tr><tr><td>45.705</td><td>1</td></tr><tr><td>60.105</td><td>1</td></tr><tr><td>24.4</td><td>1</td></tr><tr><td>14.46</td><td>1</td></tr><tr><td>16.24</td><td>1</td></tr><tr><td>39.665</td><td>1</td></tr><tr><td>20.095</td><td>1</td></tr><tr><td>31.807</td><td>1</td></tr><tr><td>null</td><td>2</td></tr><tr><td>19.39</td><td>1</td></tr><tr><td>54.005</td><td>1</td></tr><tr><td>16.535</td><td>1</td></tr><tr><td>43</td><td>1</td></tr><tr><td>25.3</td><td>1</td></tr><tr><td>22.505</td><td>1</td></tr><tr><td>9.235</td><td>1</td></tr><tr><td>19.565</td><td>1</td></tr><tr><td>21.665</td><td>1</td></tr><tr><td>31.93</td><td>1</td></tr><tr><td>21.2</td><td>1</td></tr><tr><td>26.99</td><td>1</td></tr><tr><td>18.89</td><td>2</td></tr><tr><td>24.997</td><td>1</td></tr><tr><td>26.249</td><td>1</td></tr><tr><td>21.61</td><td>1</td></tr><tr><td>13.987</td><td>1</td></tr><tr><td>26.31</td><td>1</td></tr><tr><td>37.805</td><td>1</td></tr><tr><td>28.4</td><td>1</td></tr><tr><td>13.499</td><td>1</td></tr><tr><td>33.12</td><td>1</td></tr><tr><td>46.305</td><td>1</td></tr><tr><td>26</td><td>1</td></tr><tr><td>25.545</td><td>1</td></tr><tr><td>28.8</td><td>1</td></tr><tr><td>29.185</td><td>1</td></tr><tr><td>18.27</td><td>1</td></tr><tr><td>10.685</td><td>1</td></tr><tr><td>51.728</td><td>1</td></tr><tr><td>46.225</td><td>1</td></tr><tr><td>17.518</td><td>1</td></tr><tr><td>21.41</td><td>1</td></tr><tr><td>29.465</td><td>1</td></tr><tr><td>24.15</td><td>1</td></tr><tr><td>22.195</td><td>1</td></tr><tr><td>31.01</td><td>1</td></tr><tr><td>19.045</td><td>1</td></tr><tr><td>82.6</td><td>1</td></tr><tr><td>45.5</td><td>1</td></tr><tr><td>26.6</td><td>1</td></tr><tr><td>25.31</td><td>1</td></tr><tr><td>26.935</td><td>1</td></tr><tr><td>31.965</td><td>1</td></tr><tr><td>13.96</td><td>1</td></tr><tr><td>18.575</td><td>1</td></tr><tr><td>41</td><td>1</td></tr><tr><td>19.72</td><td>1</td></tr><tr><td>29.299</td><td>1</td></tr><tr><td>24.495</td><td>1</td></tr><tr><td>22.527</td><td>1</td></tr><tr><td>15.9</td><td>1</td></tr><tr><td>16.54</td><td>1</td></tr><tr><td>22.799</td><td>1</td></tr><tr><td>33.95</td><td>1</td></tr><tr><td>74.97</td><td>1</td></tr><tr><td>27.5</td><td>1</td></tr><tr><td>19.84</td><td>1</td></tr><tr><td>69.7</td><td>1</td></tr><tr><td>14.29</td><td>1</td></tr><tr><td>12.07</td><td>1</td></tr><tr><td>22.51</td><td>1</td></tr><tr><td>24.34</td><td>1</td></tr><tr><td>18.835</td><td>1</td></tr><tr><td>41.43</td><td>1</td></tr><tr><td>33.4</td><td>1</td></tr><tr><td>71.02</td><td>1</td></tr><tr><td>69.725</td><td>1</td></tr><tr><td>12.885</td><td>1</td></tr><tr><td>23.99</td><td>1</td></tr><tr><td>23.755</td><td>1</td></tr><tr><td>9.699</td><td>1</td></tr><tr><td>39.08</td><td>1</td></tr><tr><td>16.48</td><td>1</td></tr><tr><td>31.505</td><td>1</td></tr><tr><td>31.75</td><td>1</td></tr><tr><td>42.66</td><td>1</td></tr><tr><td>17.035</td><td>1</td></tr><tr><td>19.035</td><td>1</td></tr><tr><td>22.605</td><td>1</td></tr><tr><td>16.98</td><td>1</td></tr><tr><td>35.3</td><td>1</td></tr><tr><td>26.399</td><td>1</td></tr><tr><td>34.605</td><td>1</td></tr><tr><td>16.08</td><td>1</td></tr><tr><td>85.5</td><td>1</td></tr><tr><td>19.46</td><td>1</td></tr><tr><td>11.799</td><td>1</td></tr><tr><td>17.89</td><td>1</td></tr><tr><td>41.6</td><td>1</td></tr><tr><td>18.85</td><td>1</td></tr><tr><td>13.26</td><td>1</td></tr><tr><td>38.9</td><td>2</td></tr><tr><td>27.56</td><td>1</td></tr><tr><td>36</td><td>1</td></tr><tr><td>26.1</td><td>1</td></tr><tr><td>22.245</td><td>1</td></tr><tr><td>27.885</td><td>1</td></tr><tr><td>22.695</td><td>1</td></tr><tr><td>14.9</td><td>1</td></tr><tr><td>19.99</td><td>1</td></tr><tr><td>20.55</td><td>1</td></tr><tr><td>23.4</td><td>1</td></tr><tr><td>62</td><td>1</td></tr><tr><td>25.45</td><td>1</td></tr><tr><td>20.23</td><td>1</td></tr><tr><td>12.05</td><td>1</td></tr><tr><td>43.33</td><td>1</td></tr><tr><td>42.8</td><td>1</td></tr><tr><td>21.975</td><td>1</td></tr><tr><td>15.01</td><td>1</td></tr><tr><td>22.368</td><td>1</td></tr><tr><td>12.315</td><td>1</td></tr><tr><td>49.9</td><td>1</td></tr><tr><td>36.135</td><td>1</td></tr><tr><td>13.108</td><td>1</td></tr><tr><td>11.528</td><td>1</td></tr><tr><td>20.39</td><td>1</td></tr><tr><td>17.885</td><td>1</td></tr><tr><td>31.598</td><td>1</td></tr><tr><td>12.64</td><td>2</td></tr><tr><td>21.315</td><td>1</td></tr></tbody></table></div>"
      ]
     },
     "metadata": {
      "application/vnd.databricks.v1+output": {
       "addedWidgets": {},
       "aggData": [],
       "aggError": "",
       "aggOverflow": false,
       "aggSchema": [],
       "aggSeriesLimitReached": false,
       "aggType": "",
       "arguments": {},
       "columnCustomDisplayInfos": {},
       "data": [
        [
         "12.535",
         1
        ],
        [
         "15.35",
         1
        ],
        [
         "16.888",
         1
        ],
        [
         "39.895",
         1
        ],
        [
         "44.475",
         1
        ],
        [
         "14.999",
         1
        ],
        [
         "21.56",
         1
        ],
        [
         "26.895",
         1
        ],
        [
         "42",
         1
        ],
        [
         "25.635",
         1
        ],
        [
         "25.345",
         1
        ],
        [
         "16.875",
         1
        ],
        [
         "16.7",
         1
        ],
        [
         "21.5",
         1
        ],
        [
         "21.62",
         1
        ],
        [
         "28.34",
         1
        ],
        [
         "22.288",
         1
        ],
        [
         "17.357",
         1
        ],
        [
         "18.145",
         1
        ],
        [
         "19.047",
         1
        ],
        [
         "17.5",
         1
        ],
        [
         "36.229",
         1
        ],
        [
         "45.705",
         1
        ],
        [
         "60.105",
         1
        ],
        [
         "24.4",
         1
        ],
        [
         "14.46",
         1
        ],
        [
         "16.24",
         1
        ],
        [
         "39.665",
         1
        ],
        [
         "20.095",
         1
        ],
        [
         "31.807",
         1
        ],
        [
         null,
         2
        ],
        [
         "19.39",
         1
        ],
        [
         "54.005",
         1
        ],
        [
         "16.535",
         1
        ],
        [
         "43",
         1
        ],
        [
         "25.3",
         1
        ],
        [
         "22.505",
         1
        ],
        [
         "9.235",
         1
        ],
        [
         "19.565",
         1
        ],
        [
         "21.665",
         1
        ],
        [
         "31.93",
         1
        ],
        [
         "21.2",
         1
        ],
        [
         "26.99",
         1
        ],
        [
         "18.89",
         2
        ],
        [
         "24.997",
         1
        ],
        [
         "26.249",
         1
        ],
        [
         "21.61",
         1
        ],
        [
         "13.987",
         1
        ],
        [
         "26.31",
         1
        ],
        [
         "37.805",
         1
        ],
        [
         "28.4",
         1
        ],
        [
         "13.499",
         1
        ],
        [
         "33.12",
         1
        ],
        [
         "46.305",
         1
        ],
        [
         "26",
         1
        ],
        [
         "25.545",
         1
        ],
        [
         "28.8",
         1
        ],
        [
         "29.185",
         1
        ],
        [
         "18.27",
         1
        ],
        [
         "10.685",
         1
        ],
        [
         "51.728",
         1
        ],
        [
         "46.225",
         1
        ],
        [
         "17.518",
         1
        ],
        [
         "21.41",
         1
        ],
        [
         "29.465",
         1
        ],
        [
         "24.15",
         1
        ],
        [
         "22.195",
         1
        ],
        [
         "31.01",
         1
        ],
        [
         "19.045",
         1
        ],
        [
         "82.6",
         1
        ],
        [
         "45.5",
         1
        ],
        [
         "26.6",
         1
        ],
        [
         "25.31",
         1
        ],
        [
         "26.935",
         1
        ],
        [
         "31.965",
         1
        ],
        [
         "13.96",
         1
        ],
        [
         "18.575",
         1
        ],
        [
         "41",
         1
        ],
        [
         "19.72",
         1
        ],
        [
         "29.299",
         1
        ],
        [
         "24.495",
         1
        ],
        [
         "22.527",
         1
        ],
        [
         "15.9",
         1
        ],
        [
         "16.54",
         1
        ],
        [
         "22.799",
         1
        ],
        [
         "33.95",
         1
        ],
        [
         "74.97",
         1
        ],
        [
         "27.5",
         1
        ],
        [
         "19.84",
         1
        ],
        [
         "69.7",
         1
        ],
        [
         "14.29",
         1
        ],
        [
         "12.07",
         1
        ],
        [
         "22.51",
         1
        ],
        [
         "24.34",
         1
        ],
        [
         "18.835",
         1
        ],
        [
         "41.43",
         1
        ],
        [
         "33.4",
         1
        ],
        [
         "71.02",
         1
        ],
        [
         "69.725",
         1
        ],
        [
         "12.885",
         1
        ],
        [
         "23.99",
         1
        ],
        [
         "23.755",
         1
        ],
        [
         "9.699",
         1
        ],
        [
         "39.08",
         1
        ],
        [
         "16.48",
         1
        ],
        [
         "31.505",
         1
        ],
        [
         "31.75",
         1
        ],
        [
         "42.66",
         1
        ],
        [
         "17.035",
         1
        ],
        [
         "19.035",
         1
        ],
        [
         "22.605",
         1
        ],
        [
         "16.98",
         1
        ],
        [
         "35.3",
         1
        ],
        [
         "26.399",
         1
        ],
        [
         "34.605",
         1
        ],
        [
         "16.08",
         1
        ],
        [
         "85.5",
         1
        ],
        [
         "19.46",
         1
        ],
        [
         "11.799",
         1
        ],
        [
         "17.89",
         1
        ],
        [
         "41.6",
         1
        ],
        [
         "18.85",
         1
        ],
        [
         "13.26",
         1
        ],
        [
         "38.9",
         2
        ],
        [
         "27.56",
         1
        ],
        [
         "36",
         1
        ],
        [
         "26.1",
         1
        ],
        [
         "22.245",
         1
        ],
        [
         "27.885",
         1
        ],
        [
         "22.695",
         1
        ],
        [
         "14.9",
         1
        ],
        [
         "19.99",
         1
        ],
        [
         "20.55",
         1
        ],
        [
         "23.4",
         1
        ],
        [
         "62",
         1
        ],
        [
         "25.45",
         1
        ],
        [
         "20.23",
         1
        ],
        [
         "12.05",
         1
        ],
        [
         "43.33",
         1
        ],
        [
         "42.8",
         1
        ],
        [
         "21.975",
         1
        ],
        [
         "15.01",
         1
        ],
        [
         "22.368",
         1
        ],
        [
         "12.315",
         1
        ],
        [
         "49.9",
         1
        ],
        [
         "36.135",
         1
        ],
        [
         "13.108",
         1
        ],
        [
         "11.528",
         1
        ],
        [
         "20.39",
         1
        ],
        [
         "17.885",
         1
        ],
        [
         "31.598",
         1
        ],
        [
         "12.64",
         2
        ],
        [
         "21.315",
         1
        ]
       ],
       "datasetInfos": [],
       "dbfsResultPath": null,
       "isJsonSchema": true,
       "metadata": {},
       "overflow": false,
       "plotOptions": {
        "customPlotOptions": {},
        "displayType": "table",
        "pivotAggregation": null,
        "pivotColumns": null,
        "xColumns": null,
        "yColumns": null
       },
       "removedWidgets": [],
       "schema": [
        {
         "metadata": "{}",
         "name": "Price_in_thousands",
         "type": "\"string\""
        },
        {
         "metadata": "{}",
         "name": "count",
         "type": "\"long\""
        }
       ],
       "type": "table"
      }
     },
     "output_type": "display_data"
    }
   ],
   "source": [
    "# Example code in a Databricks notebook for visualization\n",
    "import matplotlib.pyplot as plt\n",
    "\n",
    "# Assuming 'delta_table' is a DataFrame with your Delta Lake data\n",
    "result_df = delta_table.groupBy(\"Price_in_thousands\").count()\n",
    "\n",
    "# Display a bar chart\n",
    "display(result_df)"
   ]
  },
  {
   "cell_type": "code",
   "execution_count": 0,
   "metadata": {
    "application/vnd.databricks.v1+cell": {
     "cellMetadata": {},
     "inputWidgets": {},
     "nuid": "4ed37c77-105d-4dd3-8eac-3e3fbc674f90",
     "showTitle": false,
     "title": ""
    }
   },
   "outputs": [],
   "source": []
  }
 ],
 "metadata": {
  "application/vnd.databricks.v1+notebook": {
   "dashboards": [],
   "language": "python",
   "notebookMetadata": {
    "mostRecentlyExecutedCommandWithImplicitDF": {
     "commandId": 1750606772044683,
     "dataframes": [
      "_sqldf"
     ]
    },
    "pythonIndentUnit": 4
   },
   "notebookName": "Car Sales",
   "widgets": {}
  }
 },
 "nbformat": 4,
 "nbformat_minor": 0
}
